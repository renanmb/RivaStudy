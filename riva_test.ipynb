{
 "cells": [
  {
   "cell_type": "code",
   "execution_count": 1,
   "metadata": {},
   "outputs": [
    {
     "name": "stdout",
     "output_type": "stream",
     "text": [
      "Collecting numpy\n",
      "  Downloading numpy-1.24.1-cp310-cp310-win_amd64.whl (14.8 MB)\n",
      "     ---------------------------------------- 14.8/14.8 MB 6.9 MB/s eta 0:00:00\n",
      "Installing collected packages: numpy\n",
      "Successfully installed numpy-1.24.1\n"
     ]
    },
    {
     "name": "stderr",
     "output_type": "stream",
     "text": [
      "\n",
      "[notice] A new release of pip available: 22.2.2 -> 22.3.1\n",
      "[notice] To update, run: python.exe -m pip install --upgrade pip\n"
     ]
    },
    {
     "name": "stdout",
     "output_type": "stream",
     "text": [
      "Collecting nvidia-riva-client\n",
      "  Downloading nvidia_riva_client-2.8.0-py3-none-any.whl (37 kB)\n",
      "Collecting grpcio-tools\n",
      "  Downloading grpcio_tools-1.51.1-cp310-cp310-win_amd64.whl (1.8 MB)\n",
      "     ---------------------------------------- 1.8/1.8 MB 6.5 MB/s eta 0:00:00\n",
      "Collecting setuptools>=65\n",
      "  Downloading setuptools-65.6.3-py3-none-any.whl (1.2 MB)\n",
      "     ---------------------------------------- 1.2/1.2 MB 6.0 MB/s eta 0:00:00\n",
      "Collecting protobuf<5.0dev,>=4.21.6\n",
      "  Downloading protobuf-4.21.12-cp310-abi3-win_amd64.whl (527 kB)\n",
      "     -------------------------------------- 527.0/527.0 kB 6.6 MB/s eta 0:00:00\n",
      "Collecting grpcio>=1.51.1\n",
      "  Downloading grpcio-1.51.1-cp310-cp310-win_amd64.whl (3.7 MB)\n",
      "     ---------------------------------------- 3.7/3.7 MB 7.4 MB/s eta 0:00:00\n",
      "Installing collected packages: setuptools, protobuf, grpcio, grpcio-tools, nvidia-riva-client\n",
      "  Attempting uninstall: setuptools\n",
      "    Found existing installation: setuptools 63.2.0\n",
      "    Uninstalling setuptools-63.2.0:\n",
      "      Successfully uninstalled setuptools-63.2.0\n",
      "Successfully installed grpcio-1.51.1 grpcio-tools-1.51.1 nvidia-riva-client-2.8.0 protobuf-4.21.12 setuptools-65.6.3\n"
     ]
    },
    {
     "name": "stderr",
     "output_type": "stream",
     "text": [
      "\n",
      "[notice] A new release of pip available: 22.2.2 -> 22.3.1\n",
      "[notice] To update, run: python.exe -m pip install --upgrade pip\n"
     ]
    }
   ],
   "source": [
    "# We need numpy to read the output from the Riva TTS request.\n",
    "!pip install numpy\n",
    "!pip install nvidia-riva-client"
   ]
  },
  {
   "cell_type": "code",
   "execution_count": 2,
   "metadata": {},
   "outputs": [],
   "source": [
    "import numpy as np\n",
    "import IPython.display as ipd\n",
    "import riva.client"
   ]
  },
  {
   "cell_type": "code",
   "execution_count": 3,
   "metadata": {},
   "outputs": [],
   "source": [
    "auth = riva.client.Auth(uri='localhost:50051')\n",
    "\n",
    "riva_tts = riva.client.SpeechSynthesisService(auth)"
   ]
  },
  {
   "cell_type": "code",
   "execution_count": 4,
   "metadata": {},
   "outputs": [],
   "source": [
    "sample_rate_hz = 44100\n",
    "req = { \n",
    "        \"language_code\"  : \"en-US\",\n",
    "        \"encoding\"       : riva.client.AudioEncoding.LINEAR_PCM ,   # Currently only LINEAR_PCM is supported\n",
    "        \"sample_rate_hz\" : sample_rate_hz,                          # Generate 44.1KHz audio\n",
    "        \"voice_name\"     : \"English-US.Female-1\"                    # The name of the voice to generate\n",
    "}"
   ]
  },
  {
   "cell_type": "code",
   "execution_count": 5,
   "metadata": {},
   "outputs": [
    {
     "ename": "_InactiveRpcError",
     "evalue": "<_InactiveRpcError of RPC that terminated with:\n\tstatus = StatusCode.UNAVAILABLE\n\tdetails = \"failed to connect to all addresses; last error: UNAVAILABLE: ipv4:127.0.0.1:50051: WSA Error\"\n\tdebug_error_string = \"UNKNOWN:failed to connect to all addresses; last error: UNAVAILABLE: ipv4:127.0.0.1:50051: WSA Error {grpc_status:14, created_time:\"2023-01-10T01:18:08.749512875+00:00\"}\"\n>",
     "output_type": "error",
     "traceback": [
      "\u001b[1;31m---------------------------------------------------------------------------\u001b[0m",
      "\u001b[1;31m_InactiveRpcError\u001b[0m                         Traceback (most recent call last)",
      "Cell \u001b[1;32mIn[5], line 2\u001b[0m\n\u001b[0;32m      1\u001b[0m req[\u001b[39m\"\u001b[39m\u001b[39mtext\u001b[39m\u001b[39m\"\u001b[39m] \u001b[39m=\u001b[39m \u001b[39m\"\u001b[39m\u001b[39mIs it recognize speech or wreck a nice beach?\u001b[39m\u001b[39m\"\u001b[39m\n\u001b[1;32m----> 2\u001b[0m resp \u001b[39m=\u001b[39m riva_tts\u001b[39m.\u001b[39msynthesize(\u001b[39m*\u001b[39m\u001b[39m*\u001b[39mreq)\n\u001b[0;32m      3\u001b[0m audio_samples \u001b[39m=\u001b[39m np\u001b[39m.\u001b[39mfrombuffer(resp\u001b[39m.\u001b[39maudio, dtype\u001b[39m=\u001b[39mnp\u001b[39m.\u001b[39mint16)\n\u001b[0;32m      4\u001b[0m ipd\u001b[39m.\u001b[39mAudio(audio_samples, rate\u001b[39m=\u001b[39msample_rate_hz)\n",
      "File \u001b[1;32me:\\Bored Engineer Github\\RivaStudy\\.venv\\lib\\site-packages\\riva\\client\\tts.py:68\u001b[0m, in \u001b[0;36mSpeechSynthesisService.synthesize\u001b[1;34m(self, text, voice_name, language_code, encoding, sample_rate_hz, future)\u001b[0m\n\u001b[0;32m     66\u001b[0m     req\u001b[39m.\u001b[39mvoice_name \u001b[39m=\u001b[39m voice_name\n\u001b[0;32m     67\u001b[0m func \u001b[39m=\u001b[39m \u001b[39mself\u001b[39m\u001b[39m.\u001b[39mstub\u001b[39m.\u001b[39mSynthesize\u001b[39m.\u001b[39mfuture \u001b[39mif\u001b[39;00m future \u001b[39melse\u001b[39;00m \u001b[39mself\u001b[39m\u001b[39m.\u001b[39mstub\u001b[39m.\u001b[39mSynthesize\n\u001b[1;32m---> 68\u001b[0m \u001b[39mreturn\u001b[39;00m func(req, metadata\u001b[39m=\u001b[39;49m\u001b[39mself\u001b[39;49m\u001b[39m.\u001b[39;49mauth\u001b[39m.\u001b[39;49mget_auth_metadata())\n",
      "File \u001b[1;32me:\\Bored Engineer Github\\RivaStudy\\.venv\\lib\\site-packages\\grpc\\_channel.py:946\u001b[0m, in \u001b[0;36m_UnaryUnaryMultiCallable.__call__\u001b[1;34m(self, request, timeout, metadata, credentials, wait_for_ready, compression)\u001b[0m\n\u001b[0;32m    937\u001b[0m \u001b[39mdef\u001b[39;00m \u001b[39m__call__\u001b[39m(\u001b[39mself\u001b[39m,\n\u001b[0;32m    938\u001b[0m              request,\n\u001b[0;32m    939\u001b[0m              timeout\u001b[39m=\u001b[39m\u001b[39mNone\u001b[39;00m,\n\u001b[1;32m   (...)\u001b[0m\n\u001b[0;32m    942\u001b[0m              wait_for_ready\u001b[39m=\u001b[39m\u001b[39mNone\u001b[39;00m,\n\u001b[0;32m    943\u001b[0m              compression\u001b[39m=\u001b[39m\u001b[39mNone\u001b[39;00m):\n\u001b[0;32m    944\u001b[0m     state, call, \u001b[39m=\u001b[39m \u001b[39mself\u001b[39m\u001b[39m.\u001b[39m_blocking(request, timeout, metadata, credentials,\n\u001b[0;32m    945\u001b[0m                                   wait_for_ready, compression)\n\u001b[1;32m--> 946\u001b[0m     \u001b[39mreturn\u001b[39;00m _end_unary_response_blocking(state, call, \u001b[39mFalse\u001b[39;49;00m, \u001b[39mNone\u001b[39;49;00m)\n",
      "File \u001b[1;32me:\\Bored Engineer Github\\RivaStudy\\.venv\\lib\\site-packages\\grpc\\_channel.py:849\u001b[0m, in \u001b[0;36m_end_unary_response_blocking\u001b[1;34m(state, call, with_call, deadline)\u001b[0m\n\u001b[0;32m    847\u001b[0m         \u001b[39mreturn\u001b[39;00m state\u001b[39m.\u001b[39mresponse\n\u001b[0;32m    848\u001b[0m \u001b[39melse\u001b[39;00m:\n\u001b[1;32m--> 849\u001b[0m     \u001b[39mraise\u001b[39;00m _InactiveRpcError(state)\n",
      "\u001b[1;31m_InactiveRpcError\u001b[0m: <_InactiveRpcError of RPC that terminated with:\n\tstatus = StatusCode.UNAVAILABLE\n\tdetails = \"failed to connect to all addresses; last error: UNAVAILABLE: ipv4:127.0.0.1:50051: WSA Error\"\n\tdebug_error_string = \"UNKNOWN:failed to connect to all addresses; last error: UNAVAILABLE: ipv4:127.0.0.1:50051: WSA Error {grpc_status:14, created_time:\"2023-01-10T01:18:08.749512875+00:00\"}\"\n>"
     ]
    }
   ],
   "source": [
    "req[\"text\"] = \"Is it recognize speech or wreck a nice beach?\"\n",
    "resp = riva_tts.synthesize(**req)\n",
    "audio_samples = np.frombuffer(resp.audio, dtype=np.int16)\n",
    "ipd.Audio(audio_samples, rate=sample_rate_hz)"
   ]
  },
  {
   "cell_type": "code",
   "execution_count": 6,
   "metadata": {},
   "outputs": [
    {
     "ename": "_MultiThreadedRendezvous",
     "evalue": "<_MultiThreadedRendezvous of RPC that terminated with:\n\tstatus = StatusCode.UNAVAILABLE\n\tdetails = \"failed to connect to all addresses; last error: UNAVAILABLE: ipv4:127.0.0.1:50051: WSA Error\"\n\tdebug_error_string = \"UNKNOWN:failed to connect to all addresses; last error: UNAVAILABLE: ipv4:127.0.0.1:50051: WSA Error {grpc_status:14, created_time:\"2023-01-10T01:18:54.944206357+00:00\"}\"\n>",
     "output_type": "error",
     "traceback": [
      "\u001b[1;31m---------------------------------------------------------------------------\u001b[0m",
      "\u001b[1;31m_MultiThreadedRendezvous\u001b[0m                  Traceback (most recent call last)",
      "Cell \u001b[1;32mIn[6], line 4\u001b[0m\n\u001b[0;32m      2\u001b[0m resp \u001b[39m=\u001b[39m riva_tts\u001b[39m.\u001b[39msynthesize_online(\u001b[39m*\u001b[39m\u001b[39m*\u001b[39mreq)\n\u001b[0;32m      3\u001b[0m empty \u001b[39m=\u001b[39m np\u001b[39m.\u001b[39marray([])\n\u001b[1;32m----> 4\u001b[0m \u001b[39mfor\u001b[39;00m i, rep \u001b[39min\u001b[39;00m \u001b[39menumerate\u001b[39m(resp):\n\u001b[0;32m      5\u001b[0m     audio_samples \u001b[39m=\u001b[39m np\u001b[39m.\u001b[39mfrombuffer(rep\u001b[39m.\u001b[39maudio, dtype\u001b[39m=\u001b[39mnp\u001b[39m.\u001b[39mint16) \u001b[39m/\u001b[39m (\u001b[39m2\u001b[39m\u001b[39m*\u001b[39m\u001b[39m*\u001b[39m\u001b[39m15\u001b[39m)\n\u001b[0;32m      6\u001b[0m     \u001b[39mprint\u001b[39m(\u001b[39m\"\u001b[39m\u001b[39mChunk: \u001b[39m\u001b[39m\"\u001b[39m,i)\n",
      "File \u001b[1;32me:\\Bored Engineer Github\\RivaStudy\\.venv\\lib\\site-packages\\grpc\\_channel.py:426\u001b[0m, in \u001b[0;36m_Rendezvous.__next__\u001b[1;34m(self)\u001b[0m\n\u001b[0;32m    425\u001b[0m \u001b[39mdef\u001b[39;00m \u001b[39m__next__\u001b[39m(\u001b[39mself\u001b[39m):\n\u001b[1;32m--> 426\u001b[0m     \u001b[39mreturn\u001b[39;00m \u001b[39mself\u001b[39;49m\u001b[39m.\u001b[39;49m_next()\n",
      "File \u001b[1;32me:\\Bored Engineer Github\\RivaStudy\\.venv\\lib\\site-packages\\grpc\\_channel.py:809\u001b[0m, in \u001b[0;36m_MultiThreadedRendezvous._next\u001b[1;34m(self)\u001b[0m\n\u001b[0;32m    807\u001b[0m     \u001b[39mraise\u001b[39;00m \u001b[39mStopIteration\u001b[39;00m()\n\u001b[0;32m    808\u001b[0m \u001b[39melse\u001b[39;00m:\n\u001b[1;32m--> 809\u001b[0m     \u001b[39mraise\u001b[39;00m \u001b[39mself\u001b[39m\n\u001b[0;32m    811\u001b[0m \u001b[39mdef\u001b[39;00m \u001b[39m_response_ready\u001b[39m():\n\u001b[0;32m    812\u001b[0m     \u001b[39mreturn\u001b[39;00m (\u001b[39mself\u001b[39m\u001b[39m.\u001b[39m_state\u001b[39m.\u001b[39mresponse \u001b[39mis\u001b[39;00m \u001b[39mnot\u001b[39;00m \u001b[39mNone\u001b[39;00m \u001b[39mor\u001b[39;00m\n\u001b[0;32m    813\u001b[0m             (cygrpc\u001b[39m.\u001b[39mOperationType\u001b[39m.\u001b[39mreceive_message\n\u001b[0;32m    814\u001b[0m              \u001b[39mnot\u001b[39;00m \u001b[39min\u001b[39;00m \u001b[39mself\u001b[39m\u001b[39m.\u001b[39m_state\u001b[39m.\u001b[39mdue \u001b[39mand\u001b[39;00m\n\u001b[0;32m    815\u001b[0m              \u001b[39mself\u001b[39m\u001b[39m.\u001b[39m_state\u001b[39m.\u001b[39mcode \u001b[39mis\u001b[39;00m \u001b[39mnot\u001b[39;00m \u001b[39mNone\u001b[39;00m))\n",
      "\u001b[1;31m_MultiThreadedRendezvous\u001b[0m: <_MultiThreadedRendezvous of RPC that terminated with:\n\tstatus = StatusCode.UNAVAILABLE\n\tdetails = \"failed to connect to all addresses; last error: UNAVAILABLE: ipv4:127.0.0.1:50051: WSA Error\"\n\tdebug_error_string = \"UNKNOWN:failed to connect to all addresses; last error: UNAVAILABLE: ipv4:127.0.0.1:50051: WSA Error {grpc_status:14, created_time:\"2023-01-10T01:18:54.944206357+00:00\"}\"\n>"
     ]
    }
   ],
   "source": [
    "req[\"text\"] = \"Is it recognize speech or wreck a nice beach?\"\n",
    "resp = riva_tts.synthesize_online(**req)\n",
    "empty = np.array([])\n",
    "for i, rep in enumerate(resp):\n",
    "    audio_samples = np.frombuffer(rep.audio, dtype=np.int16) / (2**15)\n",
    "    print(\"Chunk: \",i)\n",
    "    ipd.display(ipd.Audio(audio_samples, rate=44100))\n",
    "    empty = np.concatenate((empty, audio_samples))\n",
    "\n",
    "print(\"Final synthesis:\")\n",
    "ipd.display(ipd.Audio(empty, rate=44100))"
   ]
  }
 ],
 "metadata": {
  "kernelspec": {
   "display_name": ".venv",
   "language": "python",
   "name": "python3"
  },
  "language_info": {
   "codemirror_mode": {
    "name": "ipython",
    "version": 3
   },
   "file_extension": ".py",
   "mimetype": "text/x-python",
   "name": "python",
   "nbconvert_exporter": "python",
   "pygments_lexer": "ipython3",
   "version": "3.10.8"
  },
  "orig_nbformat": 4,
  "vscode": {
   "interpreter": {
    "hash": "68fbc1a56c13a75216d61b6fe053eed2b90346eb8aa05e29d944e46df55289a9"
   }
  }
 },
 "nbformat": 4,
 "nbformat_minor": 2
}
